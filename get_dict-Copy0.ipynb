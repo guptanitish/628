{
 "metadata": {
  "name": ""
 },
 "nbformat": 3,
 "nbformat_minor": 0,
 "worksheets": [
  {
   "cells": [
    {
     "cell_type": "code",
     "collapsed": false,
     "input": [
      "import pandas as pd\n",
      "import math\n",
      "path = \"/home/stufs1/nitigupta/628/results/train_v2_tagged.txt\"\n",
      "df = pd.DataFrame.from_csv(path,header=None,index_col=None,sep='\\t')\n",
      "L = len(df)\n",
      "pos_tag_dict = dict()\n",
      "for i in range (0,L):\n",
      "    #print(df[][])\n",
      "    pos_tag_dict[df[1][i]]=1\n",
      "sorted(pos_tag_dict, key=pos_tag_dict.get)\n",
      "\n",
      "pos_tags_l = pos_tag_dict.keys()\n",
      "pos_tags_l.sort()\n",
      "\n",
      "word_dict = dict()\n",
      "for i in range (0,L):\n",
      "    #print(df[][])\n",
      "    word_dict[df[0][i]]=1\n",
      "sorted(word_dict, key=word_dict.get)\n",
      "\n",
      "word_l = word_dict.keys()\n",
      "word_l.sort()\n"
     ],
     "language": "python",
     "metadata": {},
     "outputs": [],
     "prompt_number": 22
    },
    {
     "cell_type": "code",
     "collapsed": false,
     "input": [
      "import numpy as np\n",
      "#import seaborn as sns\n",
      "bi_arr = np.zeros( (len(pos_tags_l),len(pos_tags_l)) )\n",
      "\n",
      "for i in range(0,(L-1)):\n",
      "    #print(i)\n",
      "    bi_arr[pos_tags_l.index(df[1][i])][pos_tags_l.index(df[1][i+1])]+=1\n",
      "\n",
      "column_sum = np.zeros(len(bi_arr))\n",
      "for i in range(0,len(bi_arr)):\n",
      "    for j in range(0,len(bi_arr)):\n",
      "        column_sum[j]+=bi_arr[i][j]\n",
      "\n",
      "for i in range(0,len(bi_arr)):\n",
      "    for j in range(0,len(bi_arr)):\n",
      "        bi_arr[i][j] = bi_arr[i][j]/column_sum[j]\n",
      "total=0\n",
      "for i in range(0,len(bi_arr)):\n",
      "    total+=bi_arr[i][20]\n",
      "print(total)\n"
     ],
     "language": "python",
     "metadata": {},
     "outputs": [
      {
       "metadata": {},
       "output_type": "pyout",
       "prompt_number": 23,
       "text": [
        "array([  3.,   0.,   0.,   7.,   0.,   0.,  26.,   0.,  10.,   1.,  25.,\n",
        "         0.,   1.,   0.,   3.,   8.,   1.,   0.,   0.,   0.,  65.,  27.,\n",
        "         0.,  22.,   0.,   0.,   0.,   2.,   5.,   0.,   0.,   2.,   0.,\n",
        "         0.,   0.,   6.,   6.,   0.,   0.,   5.,   1.,   0.,   0.,   0.,\n",
        "         0.,   0.])"
       ]
      }
     ],
     "prompt_number": 23
    },
    {
     "cell_type": "code",
     "collapsed": false,
     "input": [
      "\n",
      "word_arr = np.zeros( (len(word_l),len(pos_tags_l)) )\n",
      "\n",
      "for i in range(0,(L-1)):\n",
      "    #print(i)\n",
      "    word_arr[word_l.index(df[0][i])][pos_tags_l.index(df[1][i+1])]+=1 #ineficient!\n",
      "    \n",
      "word_column_sum = np.zeros(len(word_l))\n",
      "for i in range(0,len(word_l)):\n",
      "    for j in range(0,len(pos_tags_l)):\n",
      "        word_column_sum[i]+=word_arr[i][j]\n",
      "\n",
      "for i in range(0,len(word_l)):\n",
      "    for j in range(0,len(pos_tags_l)):\n",
      "        word_arr[i][j] = word_arr[i][j]/word_column_sum[i]\n",
      "total=0\n",
      "for i in range(0,len(pos_tags_l)):\n",
      "    total+=word_arr[20][i]\n",
      "print(total)"
     ],
     "language": "python",
     "metadata": {},
     "outputs": [
      {
       "output_type": "stream",
       "stream": "stdout",
       "text": [
        "1.0\n"
       ]
      }
     ],
     "prompt_number": 25
    },
    {
     "cell_type": "code",
     "collapsed": false,
     "input": [
      "tri_arr = np.zeros( (len(pos_tags_l),len(pos_tags_l),len(pos_tags_l)) )\n",
      "\n",
      "for i in range(0,(L-2)):\n",
      "    #print(i)\n",
      "    tri_arr[pos_tags_l.index(df[1][i])][pos_tags_l.index(df[1][i+1])][pos_tags_l.index(df[1][i+2])]+=1\n",
      "\n",
      "tri_column_sum=np.zeros(len(pos_tags_l))\n",
      "\n",
      "#column_sum = np.zeros(len(tri_arr))\n",
      "\n",
      "for i in range(0,len(tri_arr)):\n",
      "    for j in range(0,len(tri_arr)):\n",
      "        for k in range(0,len(tri_arr)):\n",
      "            tri_column_sum[k]+=tri_arr[i][j][k]\n",
      "\n",
      "for i in range(0,len(tri_arr)):\n",
      "    for j in range(0,len(tri_arr)):\n",
      "        for k in range(0,len(tri_arr)):\n",
      "            tri_arr[i][j][k] = tri_arr[i][j][k]/(tri_column_sum[k]+1)\n",
      "\n",
      "total=0.0\n",
      "for i in range(0,len(tri_arr)):\n",
      "    for j in range(0,len(tri_arr)):\n",
      "        total+=tri_arr[i][j][20]\n",
      "    \n",
      "print(total)\n",
      "print(tri_arr[20][20][20])\n",
      "        "
     ],
     "language": "python",
     "metadata": {},
     "outputs": [
      {
       "output_type": "stream",
       "stream": "stdout",
       "text": [
        "0.999719180006\n",
        "0.00982869980343\n"
       ]
      }
     ],
     "prompt_number": 20
    },
    {
     "cell_type": "code",
     "collapsed": false,
     "input": [
      "import matplotlib.pyplot as plt\n",
      "import pylab as pl\n",
      "\n",
      "'''\n",
      "plt.imshow(bi_arr)\n",
      "plt.show()\n",
      "'''\n",
      "pl.pcolor(bi_arr)\n",
      "pl.colorbar()\n",
      "pl.show()\n",
      "\n",
      "#code ends here"
     ],
     "language": "python",
     "metadata": {},
     "outputs": [],
     "prompt_number": "*"
    },
    {
     "cell_type": "code",
     "collapsed": false,
     "input": [
      "def to_number(s):\n",
      "    try:\n",
      "        s1 = float(s)\n",
      "        return s1\n",
      "    except ValueError:\n",
      "        return s\n",
      "print(to_number(df[0][50]))\n",
      "\n",
      "def is_float(a):\n",
      "   try:\n",
      "       float(a)\n",
      "   except:\n",
      "       return False\n",
      "   return True\n",
      "    \n",
      "def is_nan(num):\n",
      "    if(is_float(num)):\n",
      "        float_num = num+0.0\n",
      "        return math.isnan(float_num)\n",
      "    else:\n",
      "        return False\n"
     ],
     "language": "python",
     "metadata": {},
     "outputs": [
      {
       "output_type": "stream",
       "stream": "stdout",
       "text": [
        "nan\n"
       ]
      }
     ],
     "prompt_number": 69
    },
    {
     "cell_type": "code",
     "collapsed": false,
     "input": [
      "import numpy as np\n",
      "import matplotlib as ml\n",
      "import matplotlib.pyplot as plt\n",
      "\n",
      "H = [[1,2,3,4][5,6,7,8][9,10,11,12][13,14,15,16]]\n",
      "\n",
      "fig = plt.figure(figsize=(6, 3.2))\n",
      "\n",
      "ax = fig.add_subplot(111)\n",
      "ax.set_title('colorMap')\n",
      "X,Y = np.meshgrid(xedges, yedges)\n",
      "plt.pcolormesh(X, Y, H)\n",
      "ax.set_aspect('equal')\n",
      "\n",
      "cax = fig.add_axes([0.12, 0.1, 0.78, 0.8])\n",
      "cax.get_xaxis().set_visible(False)\n",
      "cax.get_yaxis().set_visible(False)\n",
      "cax.patch.set_alpha(0)\n",
      "cax.set_frame_on(False)\n",
      "plt.colorbar(orientation='vertical')\n",
      "plt.show()"
     ],
     "language": "python",
     "metadata": {},
     "outputs": [
      {
       "ename": "TypeError",
       "evalue": "list indices must be integers, not tuple",
       "output_type": "pyerr",
       "traceback": [
        "\u001b[0;31m---------------------------------------------------------------------------\u001b[0m\n\u001b[0;31mTypeError\u001b[0m                                 Traceback (most recent call last)",
        "\u001b[0;32m<ipython-input-1-8ce424883379>\u001b[0m in \u001b[0;36m<module>\u001b[0;34m()\u001b[0m\n\u001b[1;32m      3\u001b[0m \u001b[0;32mimport\u001b[0m \u001b[0mmatplotlib\u001b[0m\u001b[0;34m.\u001b[0m\u001b[0mpyplot\u001b[0m \u001b[0;32mas\u001b[0m \u001b[0mplt\u001b[0m\u001b[0;34m\u001b[0m\u001b[0m\n\u001b[1;32m      4\u001b[0m \u001b[0;34m\u001b[0m\u001b[0m\n\u001b[0;32m----> 5\u001b[0;31m \u001b[0mH\u001b[0m \u001b[0;34m=\u001b[0m \u001b[0;34m[\u001b[0m\u001b[0;34m[\u001b[0m\u001b[0;36m1\u001b[0m\u001b[0;34m,\u001b[0m\u001b[0;36m2\u001b[0m\u001b[0;34m,\u001b[0m\u001b[0;36m3\u001b[0m\u001b[0;34m,\u001b[0m\u001b[0;36m4\u001b[0m\u001b[0;34m]\u001b[0m\u001b[0;34m[\u001b[0m\u001b[0;36m5\u001b[0m\u001b[0;34m,\u001b[0m\u001b[0;36m6\u001b[0m\u001b[0;34m,\u001b[0m\u001b[0;36m7\u001b[0m\u001b[0;34m,\u001b[0m\u001b[0;36m8\u001b[0m\u001b[0;34m]\u001b[0m\u001b[0;34m[\u001b[0m\u001b[0;36m9\u001b[0m\u001b[0;34m,\u001b[0m\u001b[0;36m10\u001b[0m\u001b[0;34m,\u001b[0m\u001b[0;36m11\u001b[0m\u001b[0;34m,\u001b[0m\u001b[0;36m12\u001b[0m\u001b[0;34m]\u001b[0m\u001b[0;34m[\u001b[0m\u001b[0;36m13\u001b[0m\u001b[0;34m,\u001b[0m\u001b[0;36m14\u001b[0m\u001b[0;34m,\u001b[0m\u001b[0;36m15\u001b[0m\u001b[0;34m,\u001b[0m\u001b[0;36m16\u001b[0m\u001b[0;34m]\u001b[0m\u001b[0;34m]\u001b[0m\u001b[0;34m\u001b[0m\u001b[0m\n\u001b[0m\u001b[1;32m      6\u001b[0m \u001b[0;34m\u001b[0m\u001b[0m\n\u001b[1;32m      7\u001b[0m \u001b[0mfig\u001b[0m \u001b[0;34m=\u001b[0m \u001b[0mplt\u001b[0m\u001b[0;34m.\u001b[0m\u001b[0mfigure\u001b[0m\u001b[0;34m(\u001b[0m\u001b[0mfigsize\u001b[0m\u001b[0;34m=\u001b[0m\u001b[0;34m(\u001b[0m\u001b[0;36m6\u001b[0m\u001b[0;34m,\u001b[0m \u001b[0;36m3.2\u001b[0m\u001b[0;34m)\u001b[0m\u001b[0;34m)\u001b[0m\u001b[0;34m\u001b[0m\u001b[0m\n",
        "\u001b[0;31mTypeError\u001b[0m: list indices must be integers, not tuple"
       ]
      }
     ],
     "prompt_number": 1
    },
    {
     "cell_type": "code",
     "collapsed": false,
     "input": [
      "import matplotlib.pyplot as plt\n",
      "plt.plot(column_sum)\n",
      "plt.show()"
     ],
     "language": "python",
     "metadata": {},
     "outputs": [],
     "prompt_number": 17
    },
    {
     "cell_type": "code",
     "collapsed": false,
     "input": [
      "for i in range(0,len(pos_tags_l)):\n",
      "    print(i,pos_tags_l[i])"
     ],
     "language": "python",
     "metadata": {},
     "outputs": [
      {
       "output_type": "stream",
       "stream": "stdout",
       "text": [
        "(0, nan)\n",
        "(1, '#')\n",
        "(2, '$')\n",
        "(3, \"''\")\n",
        "(4, ',')\n",
        "(5, '-LRB-')\n",
        "(6, '-RRB-')\n",
        "(7, '.')\n",
        "(8, ':')\n",
        "(9, 'CC')\n",
        "(10, 'CD')\n",
        "(11, 'DT')\n",
        "(12, 'EX')\n",
        "(13, 'FW')\n",
        "(14, 'IN')\n",
        "(15, 'JJ')\n",
        "(16, 'JJR')\n",
        "(17, 'JJS')\n",
        "(18, 'LS')\n",
        "(19, 'MD')\n",
        "(20, 'NN')\n",
        "(21, 'NNP')\n",
        "(22, 'NNPS')\n",
        "(23, 'NNS')\n",
        "(24, 'PDT')\n",
        "(25, 'POS')\n",
        "(26, 'PRP')\n",
        "(27, 'PRP$')\n",
        "(28, 'RB')\n",
        "(29, 'RBR')\n",
        "(30, 'RBS')\n",
        "(31, 'RP')\n",
        "(32, 'SYM')\n",
        "(33, 'TO')\n",
        "(34, 'UH')\n",
        "(35, 'VB')\n",
        "(36, 'VBD')\n",
        "(37, 'VBG')\n",
        "(38, 'VBN')\n",
        "(39, 'VBP')\n",
        "(40, 'VBZ')\n",
        "(41, 'WDT')\n",
        "(42, 'WP')\n",
        "(43, 'WP$')\n",
        "(44, 'WRB')\n",
        "(45, '``')\n"
       ]
      }
     ],
     "prompt_number": 23
    },
    {
     "cell_type": "code",
     "collapsed": false,
     "input": [
      "print(bi_arr[19,37]*1000)\n",
      "print(bi_arr[37,19]*1000)\n",
      "print(bi_arr[19,35]*1000)"
     ],
     "language": "python",
     "metadata": {},
     "outputs": [
      {
       "output_type": "stream",
       "stream": "stdout",
       "text": [
        "0.0\n",
        "4.11522633745\n",
        "259.972489684\n"
       ]
      }
     ],
     "prompt_number": 31
    },
    {
     "cell_type": "code",
     "collapsed": false,
     "input": [
      "print(bi_arr[15,23]*1000)\n",
      "print(bi_arr[15,28]*1000)\n",
      "print(bi_arr[23,15]*1000)\n",
      "print(bi_arr[28,15]*1000)\n",
      "#print(bi_arr[19,35]*1000)"
     ],
     "language": "python",
     "metadata": {},
     "outputs": [
      {
       "output_type": "stream",
       "stream": "stdout",
       "text": [
        "207.104557641\n",
        "9.64187327824\n",
        "7.00636942675\n",
        "43.3121019108\n"
       ]
      }
     ],
     "prompt_number": 34
    },
    {
     "cell_type": "code",
     "collapsed": false,
     "input": [
      "print(bi_arr[11,14]*1000)\n",
      "print(bi_arr[11,20]*1000)\n",
      "print(bi_arr[14,11]*1000)\n",
      "print(bi_arr[20,11]*1000)"
     ],
     "language": "python",
     "metadata": {},
     "outputs": [
      {
       "output_type": "stream",
       "stream": "stdout",
       "text": [
        "7.59219088937\n",
        "299.438202247\n",
        "404.293381038\n",
        "13.8640429338\n"
       ]
      }
     ],
     "prompt_number": 35
    },
    {
     "cell_type": "code",
     "collapsed": false,
     "input": [
      "print(word_arr[20,:])"
     ],
     "language": "python",
     "metadata": {},
     "outputs": [
      {
       "output_type": "stream",
       "stream": "stdout",
       "text": [
        "[ 0.01190476  0.          0.          0.02380952  0.0952381   0.01190476\n",
        "  0.          0.16666667  0.30952381  0.04761905  0.05952381  0.02380952\n",
        "  0.          0.          0.03571429  0.          0.          0.          0.\n",
        "  0.          0.03571429  0.01190476  0.          0.01190476  0.          0.\n",
        "  0.          0.          0.          0.          0.          0.          0.\n",
        "  0.03571429  0.          0.01190476  0.05952381  0.02380952  0.          0.\n",
        "  0.02380952  0.          0.          0.          0.          0.        ]\n"
       ]
      }
     ],
     "prompt_number": 27
    },
    {
     "cell_type": "code",
     "collapsed": false,
     "input": [],
     "language": "python",
     "metadata": {},
     "outputs": []
    }
   ],
   "metadata": {}
  }
 ]
}