{
 "metadata": {
  "name": ""
 },
 "nbformat": 3,
 "nbformat_minor": 0,
 "worksheets": [
  {
   "cells": [
    {
     "cell_type": "code",
     "collapsed": false,
     "input": [
      "import pandas as pd\n",
      "import math\n",
      "path = \"/home/stufs1/nitigupta/628/results/train_v2_tagged.txt\"\n",
      "df = pd.DataFrame.from_csv(path,header=None,index_col=None,sep='\\t')\n",
      "L = len(df)\n",
      "pos_tag_dict = dict()\n",
      "for i in range (0,L):\n",
      "    #print(df[][])\n",
      "    pos_tag_dict[df[1][i]]=1\n",
      "sorted(pos_tag_dict, key=pos_tag_dict.get)\n",
      "\n",
      "pos_tags_l = pos_tag_dict.keys()\n",
      "pos_tags_l.sort()"
     ],
     "language": "python",
     "metadata": {},
     "outputs": [],
     "prompt_number": 133
    },
    {
     "cell_type": "code",
     "collapsed": false,
     "input": [
      "import numpy as np\n",
      "#import seaborn as sns\n",
      "bi_arr = np.zeros( (len(pos_tags_l),len(pos_tags_l)) )\n",
      "\n",
      "for i in range(0,(L-1)):\n",
      "    #print(i)\n",
      "    bi_arr[pos_tags_l.index(df[1][i])][pos_tags_l.index(df[1][i+1])]+=1\n"
     ],
     "language": "python",
     "metadata": {},
     "outputs": [],
     "prompt_number": 134
    },
    {
     "cell_type": "code",
     "collapsed": false,
     "input": [
      "import matplotlib.pyplot as plt\n",
      "import pylab as pl\n",
      "\n",
      "'''\n",
      "plt.imshow(bi_arr)\n",
      "plt.show()\n",
      "'''\n",
      "pl.pcolor(bi_arr)\n",
      "pl.colorbar()\n",
      "pl.show()\n",
      "\n",
      "#code ends here"
     ],
     "language": "python",
     "metadata": {},
     "outputs": [],
     "prompt_number": 136
    },
    {
     "cell_type": "code",
     "collapsed": false,
     "input": [
      "def to_number(s):\n",
      "    try:\n",
      "        s1 = float(s)\n",
      "        return s1\n",
      "    except ValueError:\n",
      "        return s\n",
      "print(to_number(df[0][50]))\n",
      "\n",
      "def is_float(a):\n",
      "   try:\n",
      "       float(a)\n",
      "   except:\n",
      "       return False\n",
      "   return True\n",
      "    \n",
      "def is_nan(num):\n",
      "    if(is_float(num)):\n",
      "        float_num = num+0.0\n",
      "        return math.isnan(float_num)\n",
      "    else:\n",
      "        return False\n"
     ],
     "language": "python",
     "metadata": {},
     "outputs": [
      {
       "output_type": "stream",
       "stream": "stdout",
       "text": [
        "nan\n"
       ]
      }
     ],
     "prompt_number": 69
    }
   ],
   "metadata": {}
  }
 ]
}