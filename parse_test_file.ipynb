{
 "metadata": {
  "name": ""
 },
 "nbformat": 3,
 "nbformat_minor": 0,
 "worksheets": [
  {
   "cells": [
    {
     "cell_type": "code",
     "collapsed": false,
     "input": [
      "import pandas as pd\n",
      "import math\n",
      "path = \"/home/stufs1/nitigupta/628/data/test_v2.txt\"\n",
      "output_path = \"/home/stufs1/nitigupta/628/data/test_v2_parsed.txt\"\n",
      "df = pd.DataFrame.from_csv(path,index_col=None)\n",
      "L = len(df)\n",
      "s=df[\"sentence\"][0]\n"
     ],
     "language": "python",
     "metadata": {},
     "outputs": [],
     "prompt_number": 47
    },
    {
     "cell_type": "code",
     "collapsed": false,
     "input": [
      "print(df[\"sentence\"][1])"
     ],
     "language": "python",
     "metadata": {},
     "outputs": [
      {
       "output_type": "stream",
       "stream": "stdout",
       "text": [
        "The Great Britain team bus will trundle along the Via dei Gladiatori in Rome tomorrow morning deliver two battlers to the arena that is the World Championship venue .\n"
       ]
      }
     ],
     "prompt_number": 48
    },
    {
     "cell_type": "code",
     "collapsed": false,
     "input": [
      "print(df[\"sentence\"][1])\n",
      "for i in range(0,L):\n",
      "    string = df[\"sentence\"][i]\n",
      "    if type(string)==str:\n",
      "        #if string.startswith('\"') and string.endswith('\"'):\n",
      "        df[\"sentence\"][i] = string[1:-1]\n",
      "    else:\n",
      "        print i"
     ],
     "language": "python",
     "metadata": {},
     "outputs": [
      {
       "output_type": "stream",
       "stream": "stdout",
       "text": [
        "The Great Britain team bus will trundle along the Via dei Gladiatori in Rome tomorrow morning deliver two battlers to the arena that is the World Championship venue .\n",
        "24674"
       ]
      },
      {
       "output_type": "stream",
       "stream": "stdout",
       "text": [
        "\n",
        "74091"
       ]
      },
      {
       "output_type": "stream",
       "stream": "stdout",
       "text": [
        "\n",
        "85234"
       ]
      },
      {
       "output_type": "stream",
       "stream": "stdout",
       "text": [
        "\n",
        "86464\n",
        "129054"
       ]
      },
      {
       "output_type": "stream",
       "stream": "stdout",
       "text": [
        "\n",
        "294371"
       ]
      },
      {
       "output_type": "stream",
       "stream": "stdout",
       "text": [
        "\n"
       ]
      }
     ],
     "prompt_number": 43
    },
    {
     "cell_type": "code",
     "collapsed": false,
     "input": [
      "import csv\n",
      "output_path = \"/home/stufs1/nitigupta/628/data/test_v2_parsed.txt\"\n",
      "df[\"sentence\"].to_csv(output_path,index=False)"
     ],
     "language": "python",
     "metadata": {},
     "outputs": [],
     "prompt_number": 44
    },
    {
     "cell_type": "code",
     "collapsed": false,
     "input": [
      "line1 = \"hello world\"\n",
      "\n",
      "print \"I'm going to write these to the file.\"\n",
      "\n",
      "target = open(output_path, 'w')\n",
      "for i in range(0,L):\n",
      "    s=str()\n",
      "    \n",
      "    target.write(str(df[\"sentence\"][i]))\n",
      "    target.write(\"\\n\")\n",
      "\n",
      "target.close()\n",
      "\n"
     ],
     "language": "python",
     "metadata": {},
     "outputs": [
      {
       "output_type": "stream",
       "stream": "stdout",
       "text": [
        "I'm going to write these to the file.\n"
       ]
      }
     ],
     "prompt_number": 52
    },
    {
     "cell_type": "code",
     "collapsed": false,
     "input": [
      "len(df)"
     ],
     "language": "python",
     "metadata": {},
     "outputs": [
      {
       "metadata": {},
       "output_type": "pyout",
       "prompt_number": 46,
       "text": [
        "306681"
       ]
      }
     ],
     "prompt_number": 46
    },
    {
     "cell_type": "code",
     "collapsed": false,
     "input": [],
     "language": "python",
     "metadata": {},
     "outputs": []
    }
   ],
   "metadata": {}
  }
 ]
}