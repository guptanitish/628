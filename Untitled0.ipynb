{
 "metadata": {
  "name": ""
 },
 "nbformat": 3,
 "nbformat_minor": 0,
 "worksheets": [
  {
   "cells": [
    {
     "cell_type": "code",
     "collapsed": false,
     "input": [
      "import numpy as np\n",
      "import matplotlib as ml\n",
      "import matplotlib.pyplot as plt\n",
      "\n",
      "H = np.array([[1,2,3,4],[5,6,7,8],[9,10,11,12],[13,14,15,16]])  # added some commas and array creation code\n",
      "\n",
      "fig = plt.figure(figsize=(6, 3.2))\n",
      "\n",
      "ax = fig.add_subplot(111)\n",
      "ax.set_title('colorMap')\n",
      "plt.imshow(H)\n",
      "'''\n",
      "ax.set_aspect('equal')\n",
      "\n",
      "cax = fig.add_axes([0.12, 0.1, 0.78, 0.8])\n",
      "cax.get_xaxis().set_visible(False)\n",
      "cax.get_yaxis().set_visible(False)\n",
      "cax.patch.set_alpha(0)\n",
      "cax.set_frame_on(False)\n",
      "plt.colorbar(orientation='vertical')\n",
      "'''\n",
      "plt.show()\n"
     ],
     "language": "python",
     "metadata": {},
     "outputs": [],
     "prompt_number": 9
    },
    {
     "cell_type": "code",
     "collapsed": false,
     "input": [],
     "language": "python",
     "metadata": {},
     "outputs": []
    }
   ],
   "metadata": {}
  }
 ]
}