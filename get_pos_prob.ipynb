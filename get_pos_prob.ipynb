{
 "metadata": {
  "name": ""
 },
 "nbformat": 3,
 "nbformat_minor": 0,
 "worksheets": [
  {
   "cells": [
    {
     "cell_type": "code",
     "collapsed": false,
     "input": [
      "import pandas as pd\n",
      "import math\n",
      "path = \"/home/stufs1/nitigupta/628/results/tagged_10000.txt\"\n",
      "df = pd.DataFrame.from_csv(path,header=None,index_col=None,sep='\\t')\n",
      "L = len(df)\n",
      "pos_tag_dict = dict()\n",
      "for i in range (0,L):\n",
      "    #print(df[][])\n",
      "    pos_tag_dict[df[1][i]]=1\n",
      "sorted(pos_tag_dict, key=pos_tag_dict.get)\n",
      "\n",
      "pos_tags_l = pos_tag_dict.keys()\n",
      "pos_tags_l.sort()\n",
      "\n",
      "word_dict = dict()\n",
      "for i in range (0,L):\n",
      "    #print(df[][])\n",
      "    word_dict[df[0][i]]=1\n",
      "sorted(word_dict, key=word_dict.get)\n",
      "\n",
      "word_l = word_dict.keys()\n",
      "word_l.sort()\n"
     ],
     "language": "python",
     "metadata": {},
     "outputs": [],
     "prompt_number": 1
    },
    {
     "cell_type": "code",
     "collapsed": false,
     "input": [
      "import numpy as np\n",
      "#import seaborn as sns\n",
      "bi_arr = np.zeros( (len(pos_tags_l),len(pos_tags_l)) )\n",
      "\n",
      "for i in range(0,(L-1)):\n",
      "    #print(i)\n",
      "    bi_arr[pos_tags_l.index(df[1][i])][pos_tags_l.index(df[1][i+1])]+=1\n",
      "\n",
      "column_sum = np.zeros(len(bi_arr))\n",
      "for i in range(0,len(bi_arr)):\n",
      "    for j in range(0,len(bi_arr)):\n",
      "        column_sum[j]+=bi_arr[i][j]\n",
      "\n",
      "for i in range(0,len(bi_arr)):\n",
      "    for j in range(0,len(bi_arr)):\n",
      "        bi_arr[i][j] = bi_arr[i][j]/column_sum[j]\n",
      "total=0\n",
      "for i in range(0,len(bi_arr)):\n",
      "    total+=bi_arr[i][20]\n",
      "print(total)\n"
     ],
     "language": "python",
     "metadata": {},
     "outputs": [
      {
       "output_type": "stream",
       "stream": "stdout",
       "text": [
        "1.0\n"
       ]
      }
     ],
     "prompt_number": 2
    },
    {
     "cell_type": "code",
     "collapsed": false,
     "input": [
      "\n",
      "word_arr = np.zeros( (len(word_l),len(pos_tags_l)) )\n",
      "\n",
      "for i in range(0,(L-1)):\n",
      "    #print(i)\n",
      "    word_arr[word_l.index(df[0][i])][pos_tags_l.index(df[1][i+1])]+=1 #ineficient!\n",
      "    \n",
      "word_column_sum = np.zeros(len(word_l))\n",
      "for i in range(0,len(word_l)):\n",
      "    for j in range(0,len(pos_tags_l)):\n",
      "        word_column_sum[i]+=word_arr[i][j]\n",
      "\n",
      "for i in range(0,len(word_l)):\n",
      "    for j in range(0,len(pos_tags_l)):\n",
      "        word_arr[i][j] = word_arr[i][j]/word_column_sum[i]\n",
      "total=0\n",
      "for i in range(0,len(pos_tags_l)):\n",
      "    total+=word_arr[20][i]\n",
      "print(total)"
     ],
     "language": "python",
     "metadata": {},
     "outputs": [
      {
       "output_type": "stream",
       "stream": "stdout",
       "text": [
        "1.0\n"
       ]
      }
     ],
     "prompt_number": 3
    },
    {
     "cell_type": "code",
     "collapsed": false,
     "input": [
      "tri_arr = np.zeros( (len(pos_tags_l),len(pos_tags_l),len(pos_tags_l)) )\n",
      "\n",
      "for i in range(0,(L-2)):\n",
      "    #print(i)\n",
      "    tri_arr[pos_tags_l.index(df[1][i])][pos_tags_l.index(df[1][i+1])][pos_tags_l.index(df[1][i+2])]+=1\n",
      "\n",
      "tri_column_sum=np.zeros(len(pos_tags_l))\n",
      "\n",
      "#column_sum = np.zeros(len(tri_arr))\n",
      "\n",
      "for i in range(0,len(tri_arr)):\n",
      "    for j in range(0,len(tri_arr)):\n",
      "        for k in range(0,len(tri_arr)):\n",
      "            tri_column_sum[k]+=tri_arr[i][j][k]\n",
      "\n",
      "for i in range(0,len(tri_arr)):\n",
      "    for j in range(0,len(tri_arr)):\n",
      "        for k in range(0,len(tri_arr)):\n",
      "            tri_arr[i][j][k] = tri_arr[i][j][k]/(tri_column_sum[k]+1)\n",
      "\n",
      "total=0.0\n",
      "for i in range(0,len(tri_arr)):\n",
      "    for j in range(0,len(tri_arr)):\n",
      "        total+=tri_arr[i][j][20]\n",
      "    \n",
      "print(total)\n",
      "print(tri_arr[20][20][20])\n",
      "        "
     ],
     "language": "python",
     "metadata": {},
     "outputs": [
      {
       "output_type": "stream",
       "stream": "stdout",
       "text": [
        "0.999972205237\n",
        "0.00986714103063\n"
       ]
      }
     ],
     "prompt_number": 4
    },
    {
     "cell_type": "code",
     "collapsed": false,
     "input": [
      "for i in range(0,len(pos_tags_l)):\n",
      "    print(i,pos_tags_l[i])"
     ],
     "language": "python",
     "metadata": {},
     "outputs": [
      {
       "output_type": "stream",
       "stream": "stdout",
       "text": [
        "(0, nan)\n",
        "(1, '#')\n",
        "(2, '$')\n",
        "(3, \"''\")\n",
        "(4, ',')\n",
        "(5, '-LRB-')\n",
        "(6, '-RRB-')\n",
        "(7, '.')\n",
        "(8, ':')\n",
        "(9, 'CC')\n",
        "(10, 'CD')\n",
        "(11, 'DT')\n",
        "(12, 'EX')\n",
        "(13, 'FW')\n",
        "(14, 'IN')\n",
        "(15, 'JJ')\n",
        "(16, 'JJR')\n",
        "(17, 'JJS')\n",
        "(18, 'LS')\n",
        "(19, 'MD')\n",
        "(20, 'NN')\n",
        "(21, 'NNP')\n",
        "(22, 'NNPS')\n",
        "(23, 'NNS')\n",
        "(24, 'PDT')\n",
        "(25, 'POS')\n",
        "(26, 'PRP')\n",
        "(27, 'PRP$')\n",
        "(28, 'RB')\n",
        "(29, 'RBR')\n",
        "(30, 'RBS')\n",
        "(31, 'RP')\n",
        "(32, 'SYM')\n",
        "(33, 'TO')\n",
        "(34, 'UH')\n",
        "(35, 'VB')\n",
        "(36, 'VBD')\n",
        "(37, 'VBG')\n",
        "(38, 'VBN')\n",
        "(39, 'VBP')\n",
        "(40, 'VBZ')\n",
        "(41, 'WDT')\n",
        "(42, 'WP')\n",
        "(43, 'WP$')\n",
        "(44, 'WRB')\n",
        "(45, '``')\n"
       ]
      }
     ],
     "prompt_number": 5
    },
    {
     "cell_type": "code",
     "collapsed": false,
     "input": [
      "print(bi_arr[pos_tags_l.index('VBG'),pos_tags_l.index('MD')]*1000)\n",
      "print(bi_arr[pos_tags_l.index('MD'),pos_tags_l.index('VBG')]*1000)\n",
      "print(tri_arr[pos_tags_l.index('NN'),pos_tags_l.index('MD'),pos_tags_l.index('VBG')]*1000)\n",
      "print(word_arr[word_l.index('may'),pos_tags_l.index('VBG')]*1000)\n",
      "#print(bi_arr[19,35]*1000)"
     ],
     "language": "python",
     "metadata": {},
     "outputs": [
      {
       "output_type": "stream",
       "stream": "stdout",
       "text": [
        "0.828157349896\n",
        "0.209599664641\n",
        "0.209555741827\n",
        "0.0\n"
       ]
      }
     ],
     "prompt_number": 18
    },
    {
     "cell_type": "code",
     "collapsed": false,
     "input": [
      "print(bi_arr[pos_tags_l.index('VB'),pos_tags_l.index('MD')]*1000)\n",
      "print(bi_arr[pos_tags_l.index('MD'),pos_tags_l.index('VB')]*1000)\n",
      "print(tri_arr[pos_tags_l.index('NN'),pos_tags_l.index('MD'),pos_tags_l.index('VB')]*1000)\n",
      "print(word_arr[word_l.index('may'),pos_tags_l.index('VB')]*1000)"
     ],
     "language": "python",
     "metadata": {},
     "outputs": [
      {
       "output_type": "stream",
       "stream": "stdout",
       "text": [
        "1.24223602484\n",
        "269.603029878\n",
        "64.9368863955\n",
        "783.216783217\n"
       ]
      }
     ],
     "prompt_number": 19
    },
    {
     "cell_type": "code",
     "collapsed": false,
     "input": [
      "print(bi_arr[15,23]*1000)\n",
      "print(bi_arr[15,28]*1000)\n",
      "print(bi_arr[23,15]*1000)\n",
      "print(bi_arr[28,15]*1000)\n",
      "#print(bi_arr[19,35]*1000)"
     ],
     "language": "python",
     "metadata": {},
     "outputs": [
      {
       "output_type": "stream",
       "stream": "stdout",
       "text": [
        "207.104557641\n",
        "9.64187327824\n",
        "7.00636942675\n",
        "43.3121019108\n"
       ]
      }
     ],
     "prompt_number": 34
    },
    {
     "cell_type": "code",
     "collapsed": false,
     "input": [
      "print(bi_arr[15,23]*1000)\n",
      "print(bi_arr[15,28]*1000)\n",
      "print(bi_arr[23,15]*1000)\n",
      "print(bi_arr[28,15]*1000)"
     ],
     "language": "python",
     "metadata": {},
     "outputs": [
      {
       "output_type": "stream",
       "stream": "stdout",
       "text": [
        "220.486111111\n",
        "11.0111454277\n",
        "10.5946475596\n",
        "47.7065343867\n"
       ]
      }
     ],
     "prompt_number": 7
    },
    {
     "cell_type": "code",
     "collapsed": false,
     "input": [
      "print(bi_arr[11,14]*1000)\n",
      "print(bi_arr[11,20]*1000)\n",
      "print(bi_arr[14,11]*1000)\n",
      "print(bi_arr[20,11]*1000)"
     ],
     "language": "python",
     "metadata": {},
     "outputs": [
      {
       "output_type": "stream",
       "stream": "stdout",
       "text": [
        "7.59219088937\n",
        "299.438202247\n",
        "404.293381038\n",
        "13.8640429338\n"
       ]
      }
     ],
     "prompt_number": 35
    },
    {
     "cell_type": "code",
     "collapsed": false,
     "input": [
      "print(word_arr[20,:])"
     ],
     "language": "python",
     "metadata": {},
     "outputs": [
      {
       "output_type": "stream",
       "stream": "stdout",
       "text": [
        "[ 0.01190476  0.          0.          0.02380952  0.0952381   0.01190476\n",
        "  0.          0.16666667  0.30952381  0.04761905  0.05952381  0.02380952\n",
        "  0.          0.          0.03571429  0.          0.          0.          0.\n",
        "  0.          0.03571429  0.01190476  0.          0.01190476  0.          0.\n",
        "  0.          0.          0.          0.          0.          0.          0.\n",
        "  0.03571429  0.          0.01190476  0.05952381  0.02380952  0.          0.\n",
        "  0.02380952  0.          0.          0.          0.          0.        ]\n"
       ]
      }
     ],
     "prompt_number": 27
    },
    {
     "cell_type": "code",
     "collapsed": false,
     "input": [],
     "language": "python",
     "metadata": {},
     "outputs": []
    }
   ],
   "metadata": {}
  }
 ]
}